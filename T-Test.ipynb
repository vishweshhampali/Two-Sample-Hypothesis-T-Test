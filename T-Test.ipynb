{
 "cells": [
  {
   "metadata": {},
   "cell_type": "markdown",
   "source": "# Hypothesis Testing",
   "id": "de618a07a0c8fc54"
  },
  {
   "metadata": {
    "ExecuteTime": {
     "end_time": "2024-09-22T07:54:11.836596Z",
     "start_time": "2024-09-22T07:54:11.824674Z"
    }
   },
   "cell_type": "code",
   "source": "import pandas as pd",
   "id": "e9cfae76e8b25317",
   "outputs": [],
   "execution_count": 42
  },
  {
   "metadata": {},
   "cell_type": "markdown",
   "source": [
    "## Step 2: Load the Dataset\n",
    "\n",
    "Next, we load the dataset, which contains data relevant to the hypothesis testing and machine learning tasks we will perform. We can inspect the first few rows of the dataset to understand its structure.\n"
   ],
   "id": "33c62e8b7eff9f6a"
  },
  {
   "metadata": {
    "ExecuteTime": {
     "end_time": "2024-09-22T07:54:12.410157Z",
     "start_time": "2024-09-22T07:54:11.869942Z"
    }
   },
   "cell_type": "code",
   "source": "df = pd.read_csv('D:\\HypothesisTesting\\pythonProject\\OnlineRetail.csv')",
   "id": "6c6ae65239435737",
   "outputs": [],
   "execution_count": 43
  },
  {
   "metadata": {
    "ExecuteTime": {
     "end_time": "2024-09-22T07:54:12.447845Z",
     "start_time": "2024-09-22T07:54:12.410157Z"
    }
   },
   "cell_type": "code",
   "source": "df.head()",
   "id": "debb29eb9991e6f8",
   "outputs": [
    {
     "data": {
      "text/plain": [
       "  InvoiceNo StockCode                          Description  Quantity  \\\n",
       "0    536365    85123A   WHITE HANGING HEART T-LIGHT HOLDER         6   \n",
       "1    536365     71053                  WHITE METAL LANTERN         6   \n",
       "2    536365    84406B       CREAM CUPID HEARTS COAT HANGER         8   \n",
       "3    536365    84029G  KNITTED UNION FLAG HOT WATER BOTTLE         6   \n",
       "4    536365    84029E       RED WOOLLY HOTTIE WHITE HEART.         6   \n",
       "\n",
       "        InvoiceDate  UnitPrice  CustomerID         Country  \n",
       "0  01/12/2010 08:26       2.55     17850.0  United Kingdom  \n",
       "1  01/12/2010 08:26       3.39     17850.0  United Kingdom  \n",
       "2  01/12/2010 08:26       2.75     17850.0  United Kingdom  \n",
       "3  01/12/2010 08:26       3.39     17850.0  United Kingdom  \n",
       "4  01/12/2010 08:26       3.39     17850.0  United Kingdom  "
      ],
      "text/html": [
       "<div>\n",
       "<style scoped>\n",
       "    .dataframe tbody tr th:only-of-type {\n",
       "        vertical-align: middle;\n",
       "    }\n",
       "\n",
       "    .dataframe tbody tr th {\n",
       "        vertical-align: top;\n",
       "    }\n",
       "\n",
       "    .dataframe thead th {\n",
       "        text-align: right;\n",
       "    }\n",
       "</style>\n",
       "<table border=\"1\" class=\"dataframe\">\n",
       "  <thead>\n",
       "    <tr style=\"text-align: right;\">\n",
       "      <th></th>\n",
       "      <th>InvoiceNo</th>\n",
       "      <th>StockCode</th>\n",
       "      <th>Description</th>\n",
       "      <th>Quantity</th>\n",
       "      <th>InvoiceDate</th>\n",
       "      <th>UnitPrice</th>\n",
       "      <th>CustomerID</th>\n",
       "      <th>Country</th>\n",
       "    </tr>\n",
       "  </thead>\n",
       "  <tbody>\n",
       "    <tr>\n",
       "      <th>0</th>\n",
       "      <td>536365</td>\n",
       "      <td>85123A</td>\n",
       "      <td>WHITE HANGING HEART T-LIGHT HOLDER</td>\n",
       "      <td>6</td>\n",
       "      <td>01/12/2010 08:26</td>\n",
       "      <td>2.55</td>\n",
       "      <td>17850.0</td>\n",
       "      <td>United Kingdom</td>\n",
       "    </tr>\n",
       "    <tr>\n",
       "      <th>1</th>\n",
       "      <td>536365</td>\n",
       "      <td>71053</td>\n",
       "      <td>WHITE METAL LANTERN</td>\n",
       "      <td>6</td>\n",
       "      <td>01/12/2010 08:26</td>\n",
       "      <td>3.39</td>\n",
       "      <td>17850.0</td>\n",
       "      <td>United Kingdom</td>\n",
       "    </tr>\n",
       "    <tr>\n",
       "      <th>2</th>\n",
       "      <td>536365</td>\n",
       "      <td>84406B</td>\n",
       "      <td>CREAM CUPID HEARTS COAT HANGER</td>\n",
       "      <td>8</td>\n",
       "      <td>01/12/2010 08:26</td>\n",
       "      <td>2.75</td>\n",
       "      <td>17850.0</td>\n",
       "      <td>United Kingdom</td>\n",
       "    </tr>\n",
       "    <tr>\n",
       "      <th>3</th>\n",
       "      <td>536365</td>\n",
       "      <td>84029G</td>\n",
       "      <td>KNITTED UNION FLAG HOT WATER BOTTLE</td>\n",
       "      <td>6</td>\n",
       "      <td>01/12/2010 08:26</td>\n",
       "      <td>3.39</td>\n",
       "      <td>17850.0</td>\n",
       "      <td>United Kingdom</td>\n",
       "    </tr>\n",
       "    <tr>\n",
       "      <th>4</th>\n",
       "      <td>536365</td>\n",
       "      <td>84029E</td>\n",
       "      <td>RED WOOLLY HOTTIE WHITE HEART.</td>\n",
       "      <td>6</td>\n",
       "      <td>01/12/2010 08:26</td>\n",
       "      <td>3.39</td>\n",
       "      <td>17850.0</td>\n",
       "      <td>United Kingdom</td>\n",
       "    </tr>\n",
       "  </tbody>\n",
       "</table>\n",
       "</div>"
      ]
     },
     "execution_count": 44,
     "metadata": {},
     "output_type": "execute_result"
    }
   ],
   "execution_count": 44
  },
  {
   "metadata": {},
   "cell_type": "markdown",
   "source": "## Step 3: Data Preparation\n",
   "id": "74620b98d11198b4"
  },
  {
   "metadata": {
    "ExecuteTime": {
     "end_time": "2024-09-22T07:54:12.604001Z",
     "start_time": "2024-09-22T07:54:12.447845Z"
    }
   },
   "cell_type": "code",
   "source": [
    "# Calculating sales volume\n",
    "df['SalesVolume'] = df['Quantity'] * df['UnitPrice']\n",
    "\n",
    "# Convert InvoiceDate to datetime\n",
    "df['InvoiceDate'] = pd.to_datetime(df['InvoiceDate'], dayfirst=True)\n",
    "\n",
    "# Extract month\n",
    "df['Month'] = df['InvoiceDate'].dt.month"
   ],
   "id": "d97509057129e6cd",
   "outputs": [],
   "execution_count": 45
  },
  {
   "metadata": {
    "ExecuteTime": {
     "end_time": "2024-09-22T07:54:12.702839Z",
     "start_time": "2024-09-22T07:54:12.605709Z"
    }
   },
   "cell_type": "code",
   "source": [
    "# Filter for summer (June, July, August) and winter (December, January, February) months\n",
    "df_filtered = df[df['Month'].isin([6, 7, 8, 12, 1, 2])].copy()  # Use .copy() to avoid the warning\n",
    "\n",
    "# Label the two groups: 'Winter' for December-February, 'Summer' for June-August\n",
    "df_filtered.loc[df_filtered['Month'].isin([12, 1, 2]), 'Season'] = 'Winter'\n",
    "df_filtered.loc[df_filtered['Month'].isin([6, 7, 8]), 'Season'] = 'Summer'"
   ],
   "id": "f380997c1f351680",
   "outputs": [],
   "execution_count": 46
  },
  {
   "metadata": {
    "ExecuteTime": {
     "end_time": "2024-09-22T07:54:12.726766Z",
     "start_time": "2024-09-22T07:54:12.702839Z"
    }
   },
   "cell_type": "code",
   "source": [
    "# Group by Season and sum SalesVolume\n",
    "sales_by_season = df_filtered.groupby('Season')['SalesVolume'].sum()\n",
    "print(sales_by_season)\n"
   ],
   "id": "599c7e0e2b63182a",
   "outputs": [
    {
     "name": "stdout",
     "output_type": "stream",
     "text": [
      "Season\n",
      "Summer    2055103.741\n",
      "Winter    2240687.940\n",
      "Name: SalesVolume, dtype: float64\n"
     ]
    }
   ],
   "execution_count": 47
  },
  {
   "metadata": {
    "ExecuteTime": {
     "end_time": "2024-09-22T07:54:12.784890Z",
     "start_time": "2024-09-22T07:54:12.728384Z"
    }
   },
   "cell_type": "code",
   "source": [
    "# Separate the two groups\n",
    "winter_sales = df_filtered[df_filtered['Season'] == 'Winter']['SalesVolume']\n",
    "summer_sales = df_filtered[df_filtered['Season'] == 'Summer']['SalesVolume']\n"
   ],
   "id": "3b3571222102a455",
   "outputs": [],
   "execution_count": 48
  },
  {
   "metadata": {},
   "cell_type": "markdown",
   "source": [
    "## Step 4: Hypothesis Testing\n",
    "\n",
    "We will now perform a hypothesis test to determine if there is a significant difference between two groups in the dataset. Specifically, we will conduct T-test to compare the means of two independent samples.\n"
   ],
   "id": "229e83bacb29d3f5"
  },
  {
   "metadata": {
    "ExecuteTime": {
     "end_time": "2024-09-22T07:54:12.804243Z",
     "start_time": "2024-09-22T07:54:12.786238Z"
    }
   },
   "cell_type": "code",
   "source": [
    "# Perform the two-sample t-test\n",
    "t_stat, p_value = stats.ttest_ind(winter_sales, summer_sales, equal_var=False)\n",
    "print(f\"T-Statistic: {t_stat}, P-Value: {p_value}\")"
   ],
   "id": "bc85869757ec250b",
   "outputs": [
    {
     "name": "stdout",
     "output_type": "stream",
     "text": [
      "T-Statistic: -0.6034488885884063, P-Value: 0.5462110095831658\n"
     ]
    }
   ],
   "execution_count": 49
  },
  {
   "metadata": {
    "ExecuteTime": {
     "end_time": "2024-09-22T07:54:13.584939Z",
     "start_time": "2024-09-22T07:54:12.805815Z"
    }
   },
   "cell_type": "code",
   "source": [
    "import matplotlib.pyplot as plt\n",
    "import seaborn as sns\n",
    "\n",
    "# Boxplot to compare sales volume distributions\n",
    "sns.boxplot(x='Season', y='SalesVolume', data=df_filtered)\n",
    "plt.title('Sales Volume: Summer vs Winter')\n",
    "plt.show()"
   ],
   "id": "ac89f74bb9486d1",
   "outputs": [
    {
     "data": {
      "text/plain": [
       "<Figure size 640x480 with 1 Axes>"
      ],
      "image/png": "[encoded data removed]"
     },
     "metadata": {},
     "output_type": "display_data"
    }
   ],
   "execution_count": 50
  }
 ],
 "metadata": {
  "kernelspec": {
   "display_name": "Python 3",
   "language": "python",
   "name": "python3"
  },
  "language_info": {
   "codemirror_mode": {
    "name": "ipython",
    "version": 2
   },
   "file_extension": ".py",
   "mimetype": "text/x-python",
   "name": "python",
   "nbconvert_exporter": "python",
   "pygments_lexer": "ipython2",
   "version": "2.7.6"
  }
 },
 "nbformat": 4,
 "nbformat_minor": 5
}
